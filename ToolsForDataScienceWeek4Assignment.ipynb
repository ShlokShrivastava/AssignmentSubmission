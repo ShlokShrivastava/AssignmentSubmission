{
 "cells": [
  {
   "cell_type": "markdown",
   "metadata": {},
   "source": [
    "# My Jupyter Notebook on IBM Watson Studio"
   ]
  },
  {
   "cell_type": "markdown",
   "metadata": {},
   "source": [
    "**Shlok Shrivastava**\n",
    "\n",
    "An Agile enthusiast who is trying to get into Data Science and AI related industries because it motivates me to stay in technology.I had also been a selenium automation tester for few years of my life so i know a bit of java and python."
   ]
  },
  {
   "cell_type": "markdown",
   "metadata": {},
   "source": [
    "*i like data science because it provides me the opportunity to look at he huge amount of commotion and unrelated things with a different perspective. I like it because it might help the human civilization to find the solution of many unanswered questions in the field of science, health, research,education,agriculture, climate etc. i am very hopefull that it might help the course of our civilization to a direction where without loosing a lot we might survive the 6th major mass extinction(read about it if you have heard it for the first time,its not pseudo-science)*"
   ]
  },
  {
   "cell_type": "markdown",
   "metadata": {},
   "source": [
    "### the next line uses python command 'print' to tell you the reason y am i using jupyterlab and y am i going to upload it using git\n",
    "\n",
    "\n",
    "### it will perform addition as well\n",
    "\n",
    "\n"
   ]
  },
  {
   "cell_type": "code",
   "execution_count": 11,
   "metadata": {},
   "outputs": [
    {
     "name": "stdout",
     "output_type": "stream",
     "text": [
      "i am writing in this jupyterlab because, i have wasted 2 days configuring ibm cloud. i have posted on several forums in coursera as well in ibm support ticketing tool, but all to no avail. kindly consider it because i need to submit this assignment to get the certificate.\n",
      "for 1+1's sake and coding's sake :P\n"
     ]
    },
    {
     "data": {
      "text/plain": [
       "2"
      ]
     },
     "execution_count": 11,
     "metadata": {},
     "output_type": "execute_result"
    }
   ],
   "source": [
    "print(\"i am writing in this jupyterlab because, i have wasted 2 days configuring ibm cloud. i have posted on several forums in coursera as well in ibm support ticketing tool, but all to no avail. kindly consider it because i need to submit this assignment to get the certificate.\")\n",
    "print(\"for 1+1's sake and coding's sake :P\")\n",
    "1+1"
   ]
  },
  {
   "cell_type": "markdown",
   "metadata": {},
   "source": [
    "1. its a markdown cell to show atleast 3 uses of markdown tools\n",
    "3. the number is wrong in the cell because i m trying to show **numbered list** , that will the one of the three tools that i would be using to showcase \n",
    "2. next will be a strikethrough usage and an html link of the course.\n",
    "\n",
    "~~StrikeThrough~~\n",
    "\n",
    "\n",
    "[Course link](https://www.coursera.org/learn/open-source-tools-for-data-science)\n",
    "\n"
   ]
  }
 ],
 "metadata": {
  "kernelspec": {
   "display_name": "Python",
   "language": "python",
   "name": "conda-env-python-py"
  },
  "language_info": {
   "codemirror_mode": {
    "name": "ipython",
    "version": 3
   },
   "file_extension": ".py",
   "mimetype": "text/x-python",
   "name": "python",
   "nbconvert_exporter": "python",
   "pygments_lexer": "ipython3",
   "version": "3.6.11"
  }
 },
 "nbformat": 4,
 "nbformat_minor": 4
}
